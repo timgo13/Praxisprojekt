{
 "metadata": {
  "language_info": {
   "codemirror_mode": {
    "name": "ipython",
    "version": 3
   },
   "file_extension": ".py",
   "mimetype": "text/x-python",
   "name": "python",
   "nbconvert_exporter": "python",
   "pygments_lexer": "ipython3",
   "version": "3.8.0"
  },
  "orig_nbformat": 2,
  "kernelspec": {
   "name": "python380jvsc74a57bd03410afedb74081d81603511028deadddc25ba0f01c14e0cb891e2c2473f81884",
   "display_name": "Python 3.8.0 64-bit"
  },
  "metadata": {
   "interpreter": {
    "hash": "3410afedb74081d81603511028deadddc25ba0f01c14e0cb891e2c2473f81884"
   }
  }
 },
 "nbformat": 4,
 "nbformat_minor": 2,
 "cells": [
  {
   "cell_type": "code",
   "execution_count": 4,
   "metadata": {},
   "outputs": [],
   "source": [
    "import gzip\n",
    "import numpy as numpy\n",
    "import pandas as pd\n",
    "import io"
   ]
  },
  {
   "cell_type": "code",
   "execution_count": 8,
   "metadata": {},
   "outputs": [],
   "source": [
    "f = gzip.open('RS_2019-09-01.gz', 'rb')\n",
    "file_content = f.read()\n",
    "f.close()"
   ]
  },
  {
   "cell_type": "code",
   "execution_count": 9,
   "metadata": {},
   "outputs": [
    {
     "output_type": "execute_result",
     "data": {
      "text/plain": [
       "bytes"
      ]
     },
     "metadata": {},
     "execution_count": 9
    }
   ],
   "source": [
    "type(file_content)"
   ]
  },
  {
   "cell_type": "code",
   "execution_count": 19,
   "metadata": {},
   "outputs": [],
   "source": [
    "df = pd.read_json(io.BytesIO(file_content),lines=True);"
   ]
  },
  {
   "cell_type": "code",
   "execution_count": 20,
   "metadata": {},
   "outputs": [
    {
     "output_type": "stream",
     "name": "stdout",
     "text": [
      "<class 'pandas.core.frame.DataFrame'>\nRangeIndex: 639472 entries, 0 to 639471\nColumns: 117 entries, all_awardings to event_start\ndtypes: bool(22), float64(27), int64(9), object(59)\nmemory usage: 476.9+ MB\n"
     ]
    }
   ],
   "source": [
    "df.info()"
   ]
  },
  {
   "cell_type": "code",
   "execution_count": 21,
   "metadata": {},
   "outputs": [
    {
     "output_type": "execute_result",
     "data": {
      "text/plain": [
       "  all_awardings  allow_live_comments  archived       author  \\\n",
       "0            []                False      True     Sgedelta   \n",
       "1            []                False      True      ORpanda   \n",
       "2            []                False      True   Ajamesbird   \n",
       "3            []                False      True    [deleted]   \n",
       "4            []                False      True  DgitalGamer   \n",
       "\n",
       "   author_created_utc author_flair_background_color author_flair_css_class  \\\n",
       "0        1.509576e+09                       #46d160                   None   \n",
       "1        1.515184e+09                       #ffd635                 Yellow   \n",
       "2        1.463918e+09                          None                   None   \n",
       "3                 NaN                                                 None   \n",
       "4        1.565983e+09                          None                   None   \n",
       "\n",
       "            author_flair_richtext              author_flair_template_id  \\\n",
       "0   [{'e': 'text', 't': 'Green'}]  37285f9c-9cbe-11e8-95ac-0e4c65b4248c   \n",
       "1  [{'e': 'text', 't': 'Yellow'}]  d31cb3a8-6239-11e9-836f-0e3b4660ceac   \n",
       "2                              []                                  None   \n",
       "3                             NaN                                  None   \n",
       "4                              []                                  None   \n",
       "\n",
       "  author_flair_text  ... promoted_display_name promoted_url show_media  \\\n",
       "0             Green  ...                   NaN          NaN        NaN   \n",
       "1            Yellow  ...                   NaN          NaN        NaN   \n",
       "2              None  ...                   NaN          NaN        NaN   \n",
       "3              None  ...                   NaN          NaN        NaN   \n",
       "4              None  ...                   NaN          NaN        NaN   \n",
       "\n",
       "   third_party_trackers  third_party_tracking third_party_tracking_2  \\\n",
       "0                   NaN                   NaN                    NaN   \n",
       "1                   NaN                   NaN                    NaN   \n",
       "2                   NaN                   NaN                    NaN   \n",
       "3                   NaN                   NaN                    NaN   \n",
       "4                   NaN                   NaN                    NaN   \n",
       "\n",
       "   collections  event_end event_is_live event_start  \n",
       "0          NaN        NaN           NaN         NaN  \n",
       "1          NaN        NaN           NaN         NaN  \n",
       "2          NaN        NaN           NaN         NaN  \n",
       "3          NaN        NaN           NaN         NaN  \n",
       "4          NaN        NaN           NaN         NaN  \n",
       "\n",
       "[5 rows x 117 columns]"
      ],
      "text/html": "<div>\n<style scoped>\n    .dataframe tbody tr th:only-of-type {\n        vertical-align: middle;\n    }\n\n    .dataframe tbody tr th {\n        vertical-align: top;\n    }\n\n    .dataframe thead th {\n        text-align: right;\n    }\n</style>\n<table border=\"1\" class=\"dataframe\">\n  <thead>\n    <tr style=\"text-align: right;\">\n      <th></th>\n      <th>all_awardings</th>\n      <th>allow_live_comments</th>\n      <th>archived</th>\n      <th>author</th>\n      <th>author_created_utc</th>\n      <th>author_flair_background_color</th>\n      <th>author_flair_css_class</th>\n      <th>author_flair_richtext</th>\n      <th>author_flair_template_id</th>\n      <th>author_flair_text</th>\n      <th>...</th>\n      <th>promoted_display_name</th>\n      <th>promoted_url</th>\n      <th>show_media</th>\n      <th>third_party_trackers</th>\n      <th>third_party_tracking</th>\n      <th>third_party_tracking_2</th>\n      <th>collections</th>\n      <th>event_end</th>\n      <th>event_is_live</th>\n      <th>event_start</th>\n    </tr>\n  </thead>\n  <tbody>\n    <tr>\n      <th>0</th>\n      <td>[]</td>\n      <td>False</td>\n      <td>True</td>\n      <td>Sgedelta</td>\n      <td>1.509576e+09</td>\n      <td>#46d160</td>\n      <td>None</td>\n      <td>[{'e': 'text', 't': 'Green'}]</td>\n      <td>37285f9c-9cbe-11e8-95ac-0e4c65b4248c</td>\n      <td>Green</td>\n      <td>...</td>\n      <td>NaN</td>\n      <td>NaN</td>\n      <td>NaN</td>\n      <td>NaN</td>\n      <td>NaN</td>\n      <td>NaN</td>\n      <td>NaN</td>\n      <td>NaN</td>\n      <td>NaN</td>\n      <td>NaN</td>\n    </tr>\n    <tr>\n      <th>1</th>\n      <td>[]</td>\n      <td>False</td>\n      <td>True</td>\n      <td>ORpanda</td>\n      <td>1.515184e+09</td>\n      <td>#ffd635</td>\n      <td>Yellow</td>\n      <td>[{'e': 'text', 't': 'Yellow'}]</td>\n      <td>d31cb3a8-6239-11e9-836f-0e3b4660ceac</td>\n      <td>Yellow</td>\n      <td>...</td>\n      <td>NaN</td>\n      <td>NaN</td>\n      <td>NaN</td>\n      <td>NaN</td>\n      <td>NaN</td>\n      <td>NaN</td>\n      <td>NaN</td>\n      <td>NaN</td>\n      <td>NaN</td>\n      <td>NaN</td>\n    </tr>\n    <tr>\n      <th>2</th>\n      <td>[]</td>\n      <td>False</td>\n      <td>True</td>\n      <td>Ajamesbird</td>\n      <td>1.463918e+09</td>\n      <td>None</td>\n      <td>None</td>\n      <td>[]</td>\n      <td>None</td>\n      <td>None</td>\n      <td>...</td>\n      <td>NaN</td>\n      <td>NaN</td>\n      <td>NaN</td>\n      <td>NaN</td>\n      <td>NaN</td>\n      <td>NaN</td>\n      <td>NaN</td>\n      <td>NaN</td>\n      <td>NaN</td>\n      <td>NaN</td>\n    </tr>\n    <tr>\n      <th>3</th>\n      <td>[]</td>\n      <td>False</td>\n      <td>True</td>\n      <td>[deleted]</td>\n      <td>NaN</td>\n      <td></td>\n      <td>None</td>\n      <td>NaN</td>\n      <td>None</td>\n      <td>None</td>\n      <td>...</td>\n      <td>NaN</td>\n      <td>NaN</td>\n      <td>NaN</td>\n      <td>NaN</td>\n      <td>NaN</td>\n      <td>NaN</td>\n      <td>NaN</td>\n      <td>NaN</td>\n      <td>NaN</td>\n      <td>NaN</td>\n    </tr>\n    <tr>\n      <th>4</th>\n      <td>[]</td>\n      <td>False</td>\n      <td>True</td>\n      <td>DgitalGamer</td>\n      <td>1.565983e+09</td>\n      <td>None</td>\n      <td>None</td>\n      <td>[]</td>\n      <td>None</td>\n      <td>None</td>\n      <td>...</td>\n      <td>NaN</td>\n      <td>NaN</td>\n      <td>NaN</td>\n      <td>NaN</td>\n      <td>NaN</td>\n      <td>NaN</td>\n      <td>NaN</td>\n      <td>NaN</td>\n      <td>NaN</td>\n      <td>NaN</td>\n    </tr>\n  </tbody>\n</table>\n<p>5 rows × 117 columns</p>\n</div>"
     },
     "metadata": {},
     "execution_count": 21
    }
   ],
   "source": [
    "df.head()"
   ]
  },
  {
   "cell_type": "code",
   "execution_count": 23,
   "metadata": {},
   "outputs": [
    {
     "output_type": "stream",
     "name": "stdout",
     "text": [
      "Index(['all_awardings', 'allow_live_comments', 'archived', 'author',\n       'author_created_utc', 'author_flair_background_color',\n       'author_flair_css_class', 'author_flair_richtext',\n       'author_flair_template_id', 'author_flair_text',\n       ...\n       'promoted_display_name', 'promoted_url', 'show_media',\n       'third_party_trackers', 'third_party_tracking',\n       'third_party_tracking_2', 'collections', 'event_end', 'event_is_live',\n       'event_start'],\n      dtype='object', length=117)\n"
     ]
    }
   ],
   "source": [
    "print(df.columns)"
   ]
  },
  {
   "cell_type": "code",
   "execution_count": 24,
   "metadata": {},
   "outputs": [
    {
     "output_type": "stream",
     "name": "stdout",
     "text": [
      "all_awardings\nallow_live_comments\narchived\nauthor\nauthor_created_utc\nauthor_flair_background_color\nauthor_flair_css_class\nauthor_flair_richtext\nauthor_flair_template_id\nauthor_flair_text\nauthor_flair_text_color\nauthor_flair_type\nauthor_fullname\nauthor_patreon_flair\nauthor_premium\nawarders\ncan_gild\ncan_mod_post\ncategory\ncontent_categories\ncontest_mode\ncreated_utc\ndiscussion_type\ndistinguished\ndomain\nedited\ngilded\ngildings\nhidden\nid\nis_crosspostable\nis_meta\nis_original_content\nis_reddit_media_domain\nis_robot_indexable\nis_self\nis_video\nlink_flair_background_color\nlink_flair_css_class\nlink_flair_richtext\nlink_flair_text\nlink_flair_text_color\nlink_flair_type\nlocked\nmedia\nmedia_embed\nmedia_metadata\nmedia_only\nno_follow\nnum_comments\nnum_crossposts\nover_18\nparent_whitelist_status\npermalink\npinned\npwls\nquarantine\nremoval_reason\nremoved_by\nremoved_by_category\nretrieved_on\nscore\nsecure_media\nsecure_media_embed\nselftext\nsend_replies\nspoiler\nstickied\nsubreddit\nsubreddit_id\nsubreddit_name_prefixed\nsubreddit_subscribers\nsubreddit_type\nsuggested_sort\nthumbnail\nthumbnail_height\nthumbnail_width\ntitle\ntotal_awards_received\nurl\nwhitelist_status\nwls\npost_hint\npreview\ncrosspost_parent\ncrosspost_parent_list\nlink_flair_template_id\ntreatment_tags\nupvote_ratio\nauthor_cakeday\nadserver_click_url\nadserver_imp_pixel\nauthor_id\ncall_to_action\ndomain_override\nembed_type\nembed_url\nevents\neventsOnRender\nhref_url\nis_blank\nmobile_ad_url\noriginal_link\noutbound_link\npriority_id\npromoted\npromoted_by\npromoted_display_name\npromoted_url\nshow_media\nthird_party_trackers\nthird_party_tracking\nthird_party_tracking_2\ncollections\nevent_end\nevent_is_live\nevent_start\n"
     ]
    }
   ],
   "source": [
    "for x in df.columns:\n",
    "    print(x)"
   ]
  },
  {
   "cell_type": "code",
   "execution_count": 26,
   "metadata": {},
   "outputs": [
    {
     "output_type": "execute_result",
     "data": {
      "text/plain": [
       "0         None\n",
       "1         None\n",
       "2         None\n",
       "3         None\n",
       "4         None\n",
       "          ... \n",
       "639467    None\n",
       "639468    None\n",
       "639469    None\n",
       "639470    None\n",
       "639471    None\n",
       "Name: category, Length: 639472, dtype: object"
      ]
     },
     "metadata": {},
     "execution_count": 26
    }
   ],
   "source": [
    "df['category']"
   ]
  },
  {
   "cell_type": "code",
   "execution_count": 2,
   "metadata": {},
   "outputs": [],
   "source": [
    "df_sample = pd.read_json('sample_data_reddit.json',lines=True)"
   ]
  },
  {
   "cell_type": "code",
   "execution_count": 3,
   "metadata": {},
   "outputs": [
    {
     "output_type": "stream",
     "name": "stdout",
     "text": [
      "<class 'pandas.core.frame.DataFrame'>\nRangeIndex: 10000 entries, 0 to 9999\nData columns (total 21 columns):\n #   Column                  Non-Null Count  Dtype  \n---  ------                  --------------  -----  \n 0   author                  10000 non-null  object \n 1   author_flair_css_class  3039 non-null   object \n 2   author_flair_text       3067 non-null   object \n 3   body                    10000 non-null  object \n 4   can_gild                10000 non-null  bool   \n 5   controversiality        10000 non-null  int64  \n 6   created_utc             10000 non-null  int64  \n 7   distinguished           204 non-null    object \n 8   edited                  10000 non-null  int64  \n 9   gilded                  10000 non-null  int64  \n 10  id                      10000 non-null  object \n 11  is_submitter            10000 non-null  bool   \n 12  link_id                 10000 non-null  object \n 13  parent_id               10000 non-null  object \n 14  permalink               10000 non-null  object \n 15  retrieved_on            10000 non-null  int64  \n 16  score                   10000 non-null  int64  \n 17  stickied                10000 non-null  bool   \n 18  subreddit               10000 non-null  object \n 19  subreddit_id            10000 non-null  object \n 20  author_cakeday          48 non-null     float64\ndtypes: bool(3), float64(1), int64(6), object(11)\nmemory usage: 1.4+ MB\n"
     ]
    }
   ],
   "source": [
    "df_sample.info()"
   ]
  },
  {
   "cell_type": "code",
   "execution_count": 4,
   "metadata": {},
   "outputs": [
    {
     "output_type": "execute_result",
     "data": {
      "text/plain": [
       "            author author_flair_css_class author_flair_text  \\\n",
       "0         Dethcola                               Clairemont   \n",
       "1       PennyBotV2          flair2-penny1           The Bot   \n",
       "2      Sir_Firebum              HOU-wagon  Astros Bandwagon   \n",
       "3        deanzynut            woodcutting      99 wcing btw   \n",
       "4  OfullOstomacheO                   None              None   \n",
       "\n",
       "                                                body  can_gild  \\\n",
       "0                                           A quarry      True   \n",
       "1  [Salutations! I'm not sure what you said.](htt...      True   \n",
       "2  I got into baseball at about he same time Matt...      True   \n",
       "3                                       FUCKING TORY      True   \n",
       "4                              I see a water dragon       True   \n",
       "\n",
       "   controversiality  created_utc distinguished  edited  gilded  ...  \\\n",
       "0                 0   1506816000          None       0       0  ...   \n",
       "1                 0   1506816000          None       0       0  ...   \n",
       "2                 0   1506816000          None       0       0  ...   \n",
       "3                 0   1506816000          None       0       0  ...   \n",
       "4                 0   1506816000          None       0       0  ...   \n",
       "\n",
       "  is_submitter    link_id   parent_id  \\\n",
       "0        False  t3_73ieyz   t3_73ieyz   \n",
       "1        False  t3_73g740  t1_dnqiiv7   \n",
       "2        False  t3_73hlwn  t1_dnqc3lu   \n",
       "3         True  t3_73gw9b  t1_dnqdo99   \n",
       "4        False  t3_73i6z3   t3_73i6z3   \n",
       "\n",
       "                                           permalink retrieved_on  score  \\\n",
       "0  /r/sandiego/comments/73ieyz/best_place_for_gra...   1509189606      3   \n",
       "1  /r/RWBY/comments/73g740/ruby_gives_greetings_a...   1509189606      3   \n",
       "2  /r/baseball/comments/73hlwn/matt_cain_in_his_f...   1509189606      2   \n",
       "3  /r/2007scape/comments/73gw9b/carls_platebody/d...   1509189606     18   \n",
       "4  /r/mildlyinteresting/comments/73i6z3/this_bric...   1509189606      1   \n",
       "\n",
       "   stickied          subreddit subreddit_id author_cakeday  \n",
       "0     False           sandiego     t5_2qq2q            NaN  \n",
       "1     False               RWBY     t5_2vhg0            NaN  \n",
       "2     False           baseball     t5_2qm7u            NaN  \n",
       "3     False          2007scape     t5_2wbww            NaN  \n",
       "4     False  mildlyinteresting     t5_2ti4h            NaN  \n",
       "\n",
       "[5 rows x 21 columns]"
      ],
      "text/html": "<div>\n<style scoped>\n    .dataframe tbody tr th:only-of-type {\n        vertical-align: middle;\n    }\n\n    .dataframe tbody tr th {\n        vertical-align: top;\n    }\n\n    .dataframe thead th {\n        text-align: right;\n    }\n</style>\n<table border=\"1\" class=\"dataframe\">\n  <thead>\n    <tr style=\"text-align: right;\">\n      <th></th>\n      <th>author</th>\n      <th>author_flair_css_class</th>\n      <th>author_flair_text</th>\n      <th>body</th>\n      <th>can_gild</th>\n      <th>controversiality</th>\n      <th>created_utc</th>\n      <th>distinguished</th>\n      <th>edited</th>\n      <th>gilded</th>\n      <th>...</th>\n      <th>is_submitter</th>\n      <th>link_id</th>\n      <th>parent_id</th>\n      <th>permalink</th>\n      <th>retrieved_on</th>\n      <th>score</th>\n      <th>stickied</th>\n      <th>subreddit</th>\n      <th>subreddit_id</th>\n      <th>author_cakeday</th>\n    </tr>\n  </thead>\n  <tbody>\n    <tr>\n      <th>0</th>\n      <td>Dethcola</td>\n      <td></td>\n      <td>Clairemont</td>\n      <td>A quarry</td>\n      <td>True</td>\n      <td>0</td>\n      <td>1506816000</td>\n      <td>None</td>\n      <td>0</td>\n      <td>0</td>\n      <td>...</td>\n      <td>False</td>\n      <td>t3_73ieyz</td>\n      <td>t3_73ieyz</td>\n      <td>/r/sandiego/comments/73ieyz/best_place_for_gra...</td>\n      <td>1509189606</td>\n      <td>3</td>\n      <td>False</td>\n      <td>sandiego</td>\n      <td>t5_2qq2q</td>\n      <td>NaN</td>\n    </tr>\n    <tr>\n      <th>1</th>\n      <td>PennyBotV2</td>\n      <td>flair2-penny1</td>\n      <td>The Bot</td>\n      <td>[Salutations! I'm not sure what you said.](htt...</td>\n      <td>True</td>\n      <td>0</td>\n      <td>1506816000</td>\n      <td>None</td>\n      <td>0</td>\n      <td>0</td>\n      <td>...</td>\n      <td>False</td>\n      <td>t3_73g740</td>\n      <td>t1_dnqiiv7</td>\n      <td>/r/RWBY/comments/73g740/ruby_gives_greetings_a...</td>\n      <td>1509189606</td>\n      <td>3</td>\n      <td>False</td>\n      <td>RWBY</td>\n      <td>t5_2vhg0</td>\n      <td>NaN</td>\n    </tr>\n    <tr>\n      <th>2</th>\n      <td>Sir_Firebum</td>\n      <td>HOU-wagon</td>\n      <td>Astros Bandwagon</td>\n      <td>I got into baseball at about he same time Matt...</td>\n      <td>True</td>\n      <td>0</td>\n      <td>1506816000</td>\n      <td>None</td>\n      <td>0</td>\n      <td>0</td>\n      <td>...</td>\n      <td>False</td>\n      <td>t3_73hlwn</td>\n      <td>t1_dnqc3lu</td>\n      <td>/r/baseball/comments/73hlwn/matt_cain_in_his_f...</td>\n      <td>1509189606</td>\n      <td>2</td>\n      <td>False</td>\n      <td>baseball</td>\n      <td>t5_2qm7u</td>\n      <td>NaN</td>\n    </tr>\n    <tr>\n      <th>3</th>\n      <td>deanzynut</td>\n      <td>woodcutting</td>\n      <td>99 wcing btw</td>\n      <td>FUCKING TORY</td>\n      <td>True</td>\n      <td>0</td>\n      <td>1506816000</td>\n      <td>None</td>\n      <td>0</td>\n      <td>0</td>\n      <td>...</td>\n      <td>True</td>\n      <td>t3_73gw9b</td>\n      <td>t1_dnqdo99</td>\n      <td>/r/2007scape/comments/73gw9b/carls_platebody/d...</td>\n      <td>1509189606</td>\n      <td>18</td>\n      <td>False</td>\n      <td>2007scape</td>\n      <td>t5_2wbww</td>\n      <td>NaN</td>\n    </tr>\n    <tr>\n      <th>4</th>\n      <td>OfullOstomacheO</td>\n      <td>None</td>\n      <td>None</td>\n      <td>I see a water dragon</td>\n      <td>True</td>\n      <td>0</td>\n      <td>1506816000</td>\n      <td>None</td>\n      <td>0</td>\n      <td>0</td>\n      <td>...</td>\n      <td>False</td>\n      <td>t3_73i6z3</td>\n      <td>t3_73i6z3</td>\n      <td>/r/mildlyinteresting/comments/73i6z3/this_bric...</td>\n      <td>1509189606</td>\n      <td>1</td>\n      <td>False</td>\n      <td>mildlyinteresting</td>\n      <td>t5_2ti4h</td>\n      <td>NaN</td>\n    </tr>\n  </tbody>\n</table>\n<p>5 rows × 21 columns</p>\n</div>"
     },
     "metadata": {},
     "execution_count": 4
    }
   ],
   "source": [
    "df_sample.head()"
   ]
  },
  {
   "cell_type": "code",
   "execution_count": 16,
   "metadata": {},
   "outputs": [],
   "source": [
    "df_test = df_sample[['id','author','body', 'subreddit_id', 'subreddit', 'permalink', 'parent_id']]"
   ]
  },
  {
   "cell_type": "code",
   "execution_count": 17,
   "metadata": {},
   "outputs": [
    {
     "output_type": "execute_result",
     "data": {
      "text/plain": [
       "        id           author  \\\n",
       "0  dnqik14         Dethcola   \n",
       "1  dnqik15       PennyBotV2   \n",
       "2  dnqik16      Sir_Firebum   \n",
       "3  dnqik17        deanzynut   \n",
       "4  dnqik18  OfullOstomacheO   \n",
       "5  dnqik19          PlusOn3   \n",
       "6  dnqik1a         yeee_bot   \n",
       "7  dnqik1b        grrrrreat   \n",
       "8  dnqik1c        psych4191   \n",
       "9  dnqik1d      fishboy2000   \n",
       "\n",
       "                                                body subreddit_id  \\\n",
       "0                                           A quarry     t5_2qq2q   \n",
       "1  [Salutations! I'm not sure what you said.](htt...     t5_2vhg0   \n",
       "2  I got into baseball at about he same time Matt...     t5_2qm7u   \n",
       "3                                       FUCKING TORY     t5_2wbww   \n",
       "4                              I see a water dragon      t5_2ti4h   \n",
       "5  Wait. The Michigan what? Where is this? Is thi...     t5_2r6a3   \n",
       "6                                             ye fam     t5_2rjli   \n",
       "7  143417804| &gt; United States Anonymous (ID: L...     t5_3hds7   \n",
       "8  That is some chicken salad outta chicken shit ...     t5_2qm9d   \n",
       "9                       Does he even know the rules?     t5_2qkbe   \n",
       "\n",
       "           subreddit                                          permalink  \\\n",
       "0           sandiego  /r/sandiego/comments/73ieyz/best_place_for_gra...   \n",
       "1               RWBY  /r/RWBY/comments/73g740/ruby_gives_greetings_a...   \n",
       "2           baseball  /r/baseball/comments/73hlwn/matt_cain_in_his_f...   \n",
       "3          2007scape  /r/2007scape/comments/73gw9b/carls_platebody/d...   \n",
       "4  mildlyinteresting  /r/mildlyinteresting/comments/73i6z3/this_bric...   \n",
       "5             Cubers  /r/Cubers/comments/73g65l/but_hey_why_not/dnqi...   \n",
       "6          teenagers    /r/teenagers/comments/73hvr0/im_hungry/dnqik1a/   \n",
       "7        4chan4trump  /r/4chan4trump/comments/73dvyh/143412250who_ha...   \n",
       "8                CFB  /r/CFB/comments/73hgz4/game_thread_mississippi...   \n",
       "9         rugbyunion  /r/rugbyunion/comments/73feje/match_thread_pum...   \n",
       "\n",
       "    parent_id  \n",
       "0   t3_73ieyz  \n",
       "1  t1_dnqiiv7  \n",
       "2  t1_dnqc3lu  \n",
       "3  t1_dnqdo99  \n",
       "4   t3_73i6z3  \n",
       "5  t1_dnq4z9q  \n",
       "6  t1_dnqijyp  \n",
       "7   t3_73dvyh  \n",
       "8   t3_73hgz4  \n",
       "9  t1_dnqick7  "
      ],
      "text/html": "<div>\n<style scoped>\n    .dataframe tbody tr th:only-of-type {\n        vertical-align: middle;\n    }\n\n    .dataframe tbody tr th {\n        vertical-align: top;\n    }\n\n    .dataframe thead th {\n        text-align: right;\n    }\n</style>\n<table border=\"1\" class=\"dataframe\">\n  <thead>\n    <tr style=\"text-align: right;\">\n      <th></th>\n      <th>id</th>\n      <th>author</th>\n      <th>body</th>\n      <th>subreddit_id</th>\n      <th>subreddit</th>\n      <th>permalink</th>\n      <th>parent_id</th>\n    </tr>\n  </thead>\n  <tbody>\n    <tr>\n      <th>0</th>\n      <td>dnqik14</td>\n      <td>Dethcola</td>\n      <td>A quarry</td>\n      <td>t5_2qq2q</td>\n      <td>sandiego</td>\n      <td>/r/sandiego/comments/73ieyz/best_place_for_gra...</td>\n      <td>t3_73ieyz</td>\n    </tr>\n    <tr>\n      <th>1</th>\n      <td>dnqik15</td>\n      <td>PennyBotV2</td>\n      <td>[Salutations! I'm not sure what you said.](htt...</td>\n      <td>t5_2vhg0</td>\n      <td>RWBY</td>\n      <td>/r/RWBY/comments/73g740/ruby_gives_greetings_a...</td>\n      <td>t1_dnqiiv7</td>\n    </tr>\n    <tr>\n      <th>2</th>\n      <td>dnqik16</td>\n      <td>Sir_Firebum</td>\n      <td>I got into baseball at about he same time Matt...</td>\n      <td>t5_2qm7u</td>\n      <td>baseball</td>\n      <td>/r/baseball/comments/73hlwn/matt_cain_in_his_f...</td>\n      <td>t1_dnqc3lu</td>\n    </tr>\n    <tr>\n      <th>3</th>\n      <td>dnqik17</td>\n      <td>deanzynut</td>\n      <td>FUCKING TORY</td>\n      <td>t5_2wbww</td>\n      <td>2007scape</td>\n      <td>/r/2007scape/comments/73gw9b/carls_platebody/d...</td>\n      <td>t1_dnqdo99</td>\n    </tr>\n    <tr>\n      <th>4</th>\n      <td>dnqik18</td>\n      <td>OfullOstomacheO</td>\n      <td>I see a water dragon</td>\n      <td>t5_2ti4h</td>\n      <td>mildlyinteresting</td>\n      <td>/r/mildlyinteresting/comments/73i6z3/this_bric...</td>\n      <td>t3_73i6z3</td>\n    </tr>\n    <tr>\n      <th>5</th>\n      <td>dnqik19</td>\n      <td>PlusOn3</td>\n      <td>Wait. The Michigan what? Where is this? Is thi...</td>\n      <td>t5_2r6a3</td>\n      <td>Cubers</td>\n      <td>/r/Cubers/comments/73g65l/but_hey_why_not/dnqi...</td>\n      <td>t1_dnq4z9q</td>\n    </tr>\n    <tr>\n      <th>6</th>\n      <td>dnqik1a</td>\n      <td>yeee_bot</td>\n      <td>ye fam</td>\n      <td>t5_2rjli</td>\n      <td>teenagers</td>\n      <td>/r/teenagers/comments/73hvr0/im_hungry/dnqik1a/</td>\n      <td>t1_dnqijyp</td>\n    </tr>\n    <tr>\n      <th>7</th>\n      <td>dnqik1b</td>\n      <td>grrrrreat</td>\n      <td>143417804| &amp;gt; United States Anonymous (ID: L...</td>\n      <td>t5_3hds7</td>\n      <td>4chan4trump</td>\n      <td>/r/4chan4trump/comments/73dvyh/143412250who_ha...</td>\n      <td>t3_73dvyh</td>\n    </tr>\n    <tr>\n      <th>8</th>\n      <td>dnqik1c</td>\n      <td>psych4191</td>\n      <td>That is some chicken salad outta chicken shit ...</td>\n      <td>t5_2qm9d</td>\n      <td>CFB</td>\n      <td>/r/CFB/comments/73hgz4/game_thread_mississippi...</td>\n      <td>t3_73hgz4</td>\n    </tr>\n    <tr>\n      <th>9</th>\n      <td>dnqik1d</td>\n      <td>fishboy2000</td>\n      <td>Does he even know the rules?</td>\n      <td>t5_2qkbe</td>\n      <td>rugbyunion</td>\n      <td>/r/rugbyunion/comments/73feje/match_thread_pum...</td>\n      <td>t1_dnqick7</td>\n    </tr>\n  </tbody>\n</table>\n</div>"
     },
     "metadata": {},
     "execution_count": 17
    }
   ],
   "source": [
    "df_test.head(10)"
   ]
  },
  {
   "cell_type": "code",
   "execution_count": 15,
   "metadata": {},
   "outputs": [
    {
     "output_type": "execute_result",
     "data": {
      "text/plain": [
       "'/r/sandiego/comments/73ieyz/best_place_for_granite_counter_tops/dnqik14/'"
      ]
     },
     "metadata": {},
     "execution_count": 15
    }
   ],
   "source": [
    "df_test['permalink'][0]"
   ]
  },
  {
   "cell_type": "code",
   "execution_count": 18,
   "metadata": {},
   "outputs": [],
   "source": [
    "df_submissions = pd.read_json('sample_submissions.json',lines=True)"
   ]
  },
  {
   "cell_type": "code",
   "execution_count": 19,
   "metadata": {},
   "outputs": [
    {
     "output_type": "stream",
     "name": "stdout",
     "text": [
      "<class 'pandas.core.frame.DataFrame'>\nRangeIndex: 1000 entries, 0 to 999\nData columns (total 68 columns):\n #   Column                   Non-Null Count  Dtype  \n---  ------                   --------------  -----  \n 0   adserver_click_url       0 non-null      float64\n 1   adserver_imp_pixel       0 non-null      float64\n 2   archived                 1000 non-null   bool   \n 3   author                   1000 non-null   object \n 4   author_flair_css_class   164 non-null    object \n 5   author_flair_text        180 non-null    object \n 6   author_id                6 non-null      object \n 7   brand_safe               1000 non-null   bool   \n 8   contest_mode             1000 non-null   bool   \n 9   created_utc              1000 non-null   int64  \n 10  disable_comments         6 non-null      float64\n 11  distinguished            9 non-null      object \n 12  domain                   1000 non-null   object \n 13  domain_override          0 non-null      float64\n 14  edited                   1000 non-null   int64  \n 15  embed_type               0 non-null      float64\n 16  embed_url                0 non-null      float64\n 17  gilded                   1000 non-null   int64  \n 18  hidden                   1000 non-null   bool   \n 19  hide_score               1000 non-null   bool   \n 20  href_url                 6 non-null      object \n 21  id                       1000 non-null   object \n 22  imp_pixel                0 non-null      float64\n 23  is_crosspostable         1000 non-null   bool   \n 24  is_reddit_media_domain   1000 non-null   bool   \n 25  is_self                  1000 non-null   bool   \n 26  is_video                 1000 non-null   bool   \n 27  link_flair_css_class     348 non-null    object \n 28  link_flair_text          350 non-null    object \n 29  locked                   1000 non-null   bool   \n 30  media                    120 non-null    object \n 31  media_embed              1000 non-null   object \n 32  mobile_ad_url            6 non-null      object \n 33  num_comments             1000 non-null   int64  \n 34  num_crossposts           1000 non-null   int64  \n 35  original_link            0 non-null      float64\n 36  over_18                  1000 non-null   bool   \n 37  parent_whitelist_status  730 non-null    object \n 38  permalink                1000 non-null   object \n 39  pinned                   1000 non-null   bool   \n 40  promoted                 6 non-null      float64\n 41  promoted_by              0 non-null      float64\n 42  promoted_display_name    0 non-null      float64\n 43  promoted_url             0 non-null      float64\n 44  retrieved_on             1000 non-null   int64  \n 45  score                    1000 non-null   int64  \n 46  secure_media             117 non-null    object \n 47  secure_media_embed       1000 non-null   object \n 48  selftext                 1000 non-null   object \n 49  spoiler                  1000 non-null   bool   \n 50  stickied                 1000 non-null   bool   \n 51  subreddit_id             994 non-null    object \n 52  suggested_sort           107 non-null    object \n 53  third_party_trackers     6 non-null      object \n 54  third_party_tracking     0 non-null      float64\n 55  third_party_tracking_2   0 non-null      float64\n 56  thumbnail                1000 non-null   object \n 57  thumbnail_height         490 non-null    float64\n 58  thumbnail_width          490 non-null    float64\n 59  title                    1000 non-null   object \n 60  url                      1000 non-null   object \n 61  whitelist_status         730 non-null    object \n 62  post_hint                392 non-null    object \n 63  preview                  392 non-null    object \n 64  subreddit                994 non-null    object \n 65  author_cakeday           8 non-null      float64\n 66  crosspost_parent         1 non-null      object \n 67  crosspost_parent_list    1 non-null      object \ndtypes: bool(14), float64(17), int64(7), object(30)\nmemory usage: 435.7+ KB\n"
     ]
    }
   ],
   "source": [
    "df_submissions.info()"
   ]
  },
  {
   "cell_type": "code",
   "execution_count": 48,
   "metadata": {},
   "outputs": [],
   "source": [
    "df_sub = df_submissions[['id', 'author', 'title', 'selftext', 'subreddit_id', 'subreddit', 'permalink']]"
   ]
  },
  {
   "cell_type": "code",
   "execution_count": 24,
   "metadata": {},
   "outputs": [
    {
     "output_type": "execute_result",
     "data": {
      "text/plain": [
       "       id          author                                              title  \\\n",
       "0  6xauxl          Podify  What if an app could manage your business for ...   \n",
       "1  6xauxm         TOMTOMS                           Just swiming and chillin   \n",
       "2  6xauxn       Harmbert_  Thursday night thread presented by NFL preseas...   \n",
       "3  6xauxo       [deleted]  [ps4] [H] animus, 4 nitro, 4 turbo, 1 ODC [W] ...   \n",
       "4  6xauxp           Alccx                    [H] Gut Knife | Vanilla [W] 25k   \n",
       "5  6xauxq    4thGearNinja                                  And Here. We. Go.   \n",
       "6  6xauxr    PrinceDakkar  Soccer: Japan Beat Australia to Qualify for 20...   \n",
       "7  6xauxs       [deleted]                       [QC] This Gucci Bee Cardigan   \n",
       "8  6xauxt  hottieswelcome                  Which Rave Booty gets your vote??   \n",
       "9  6xauxu     JohnCondren  Reddit, what do you consider mankind's greates...   \n",
       "\n",
       "                                            selftext subreddit_id  \\\n",
       "0                                                            None   \n",
       "1                                                        t5_3fmbm   \n",
       "2                                                        t5_32aj8   \n",
       "3                                          [deleted]     t5_3g4tc   \n",
       "4  I have a Gut Knife | Vanilla, looking for b/o ...     t5_2y6r4   \n",
       "5                                          [removed]     t5_2u5kl   \n",
       "6                                                        t5_2qh8p   \n",
       "7                                          [deleted]     t5_3g0q1   \n",
       "8                                                        t5_305tg   \n",
       "9                                                        t5_2qh1i   \n",
       "\n",
       "              subreddit                                          permalink  \n",
       "0                   NaN  /comments/6xauxl/what_if_an_app_could_manage_y...  \n",
       "1       PUBATTLEGROUNDS  /r/PUBATTLEGROUNDS/comments/6xauxm/just_swimin...  \n",
       "2           CFBOffTopic  /r/CFBOffTopic/comments/6xauxn/thursday_night_...  \n",
       "3  RocketLeagueExchange  /r/RocketLeagueExchange/comments/6xauxo/ps4_h_...  \n",
       "4  GlobalOffensiveTrade  /r/GlobalOffensiveTrade/comments/6xauxp/h_gut_...  \n",
       "5             Overwatch       /r/Overwatch/comments/6xauxq/and_here_we_go/  \n",
       "6                  asia  /r/asia/comments/6xauxr/soccer_japan_beat_aust...  \n",
       "7          DesignerReps  /r/DesignerReps/comments/6xauxs/qc_this_gucci_...  \n",
       "8     Ifyouhadtopickone  /r/Ifyouhadtopickone/comments/6xauxt/which_rav...  \n",
       "9             AskReddit  /r/AskReddit/comments/6xauxu/reddit_what_do_yo...  "
      ],
      "text/html": "<div>\n<style scoped>\n    .dataframe tbody tr th:only-of-type {\n        vertical-align: middle;\n    }\n\n    .dataframe tbody tr th {\n        vertical-align: top;\n    }\n\n    .dataframe thead th {\n        text-align: right;\n    }\n</style>\n<table border=\"1\" class=\"dataframe\">\n  <thead>\n    <tr style=\"text-align: right;\">\n      <th></th>\n      <th>id</th>\n      <th>author</th>\n      <th>title</th>\n      <th>selftext</th>\n      <th>subreddit_id</th>\n      <th>subreddit</th>\n      <th>permalink</th>\n    </tr>\n  </thead>\n  <tbody>\n    <tr>\n      <th>0</th>\n      <td>6xauxl</td>\n      <td>Podify</td>\n      <td>What if an app could manage your business for ...</td>\n      <td></td>\n      <td>None</td>\n      <td>NaN</td>\n      <td>/comments/6xauxl/what_if_an_app_could_manage_y...</td>\n    </tr>\n    <tr>\n      <th>1</th>\n      <td>6xauxm</td>\n      <td>TOMTOMS</td>\n      <td>Just swiming and chillin</td>\n      <td></td>\n      <td>t5_3fmbm</td>\n      <td>PUBATTLEGROUNDS</td>\n      <td>/r/PUBATTLEGROUNDS/comments/6xauxm/just_swimin...</td>\n    </tr>\n    <tr>\n      <th>2</th>\n      <td>6xauxn</td>\n      <td>Harmbert_</td>\n      <td>Thursday night thread presented by NFL preseas...</td>\n      <td></td>\n      <td>t5_32aj8</td>\n      <td>CFBOffTopic</td>\n      <td>/r/CFBOffTopic/comments/6xauxn/thursday_night_...</td>\n    </tr>\n    <tr>\n      <th>3</th>\n      <td>6xauxo</td>\n      <td>[deleted]</td>\n      <td>[ps4] [H] animus, 4 nitro, 4 turbo, 1 ODC [W] ...</td>\n      <td>[deleted]</td>\n      <td>t5_3g4tc</td>\n      <td>RocketLeagueExchange</td>\n      <td>/r/RocketLeagueExchange/comments/6xauxo/ps4_h_...</td>\n    </tr>\n    <tr>\n      <th>4</th>\n      <td>6xauxp</td>\n      <td>Alccx</td>\n      <td>[H] Gut Knife | Vanilla [W] 25k</td>\n      <td>I have a Gut Knife | Vanilla, looking for b/o ...</td>\n      <td>t5_2y6r4</td>\n      <td>GlobalOffensiveTrade</td>\n      <td>/r/GlobalOffensiveTrade/comments/6xauxp/h_gut_...</td>\n    </tr>\n    <tr>\n      <th>5</th>\n      <td>6xauxq</td>\n      <td>4thGearNinja</td>\n      <td>And Here. We. Go.</td>\n      <td>[removed]</td>\n      <td>t5_2u5kl</td>\n      <td>Overwatch</td>\n      <td>/r/Overwatch/comments/6xauxq/and_here_we_go/</td>\n    </tr>\n    <tr>\n      <th>6</th>\n      <td>6xauxr</td>\n      <td>PrinceDakkar</td>\n      <td>Soccer: Japan Beat Australia to Qualify for 20...</td>\n      <td></td>\n      <td>t5_2qh8p</td>\n      <td>asia</td>\n      <td>/r/asia/comments/6xauxr/soccer_japan_beat_aust...</td>\n    </tr>\n    <tr>\n      <th>7</th>\n      <td>6xauxs</td>\n      <td>[deleted]</td>\n      <td>[QC] This Gucci Bee Cardigan</td>\n      <td>[deleted]</td>\n      <td>t5_3g0q1</td>\n      <td>DesignerReps</td>\n      <td>/r/DesignerReps/comments/6xauxs/qc_this_gucci_...</td>\n    </tr>\n    <tr>\n      <th>8</th>\n      <td>6xauxt</td>\n      <td>hottieswelcome</td>\n      <td>Which Rave Booty gets your vote??</td>\n      <td></td>\n      <td>t5_305tg</td>\n      <td>Ifyouhadtopickone</td>\n      <td>/r/Ifyouhadtopickone/comments/6xauxt/which_rav...</td>\n    </tr>\n    <tr>\n      <th>9</th>\n      <td>6xauxu</td>\n      <td>JohnCondren</td>\n      <td>Reddit, what do you consider mankind's greates...</td>\n      <td></td>\n      <td>t5_2qh1i</td>\n      <td>AskReddit</td>\n      <td>/r/AskReddit/comments/6xauxu/reddit_what_do_yo...</td>\n    </tr>\n  </tbody>\n</table>\n</div>"
     },
     "metadata": {},
     "execution_count": 24
    }
   ],
   "source": [
    "df_sub.head(10)"
   ]
  },
  {
   "cell_type": "code",
   "execution_count": 29,
   "metadata": {},
   "outputs": [
    {
     "output_type": "execute_result",
     "data": {
      "text/plain": [
       "'[H] Gut Knife | Vanilla [W] 25kI have a Gut Knife | Vanilla, looking for b/o 25 keys.\\n\\nhttps://s.metjm.net/2T2FChW.jpg\\n\\nSend offers here: https://steamcommunity.com/tradeoffer/new/?partner=205718428&amp;token=eWaBadTk'"
      ]
     },
     "metadata": {},
     "execution_count": 29
    }
   ],
   "source": [
    "x = df_sub['title'] + df_sub['selftext']\n",
    "x[4]"
   ]
  },
  {
   "cell_type": "code",
   "execution_count": 2,
   "metadata": {},
   "outputs": [],
   "source": [
    "import fasttext"
   ]
  },
  {
   "cell_type": "code",
   "execution_count": 3,
   "metadata": {},
   "outputs": [
    {
     "output_type": "stream",
     "name": "stderr",
     "text": [
      "Warning : `load_model` does not return WordVectorModel or SupervisedModel any more, but a `FastText` object which is very similar.\n"
     ]
    }
   ],
   "source": [
    "model_path = 'lid.176.bin'\n",
    "lang_model = fasttext.load_model(model_path)"
   ]
  },
  {
   "cell_type": "code",
   "execution_count": 64,
   "metadata": {},
   "outputs": [],
   "source": [
    "l = []\n",
    "for i,ds in df_sub.iterrows():\n",
    "    string1 = str(ds['title'])\n",
    "    string2 = str(ds['selftext'])\n",
    "    text =  string1 + ' ' + string2\n",
    "    text = text.replace(\"\\n\", \"\")\n",
    "    x = lang_model.predict(text)\n",
    "    if x[0][0] == '__label__de':\n",
    "        l.append((i,x))"
   ]
  },
  {
   "cell_type": "code",
   "execution_count": 65,
   "metadata": {},
   "outputs": [
    {
     "output_type": "execute_result",
     "data": {
      "text/plain": [
       "[(23, (('__label__de',), array([0.72245443]))),\n",
       " (172, (('__label__de',), array([0.41027692]))),\n",
       " (190, (('__label__de',), array([0.42996824]))),\n",
       " (231, (('__label__de',), array([0.84469843]))),\n",
       " (395, (('__label__de',), array([0.48310569]))),\n",
       " (702, (('__label__de',), array([0.37714747]))),\n",
       " (752, (('__label__de',), array([0.20421904])))]"
      ]
     },
     "metadata": {},
     "execution_count": 65
    }
   ],
   "source": [
    "l"
   ]
  },
  {
   "cell_type": "code",
   "execution_count": 75,
   "metadata": {},
   "outputs": [
    {
     "output_type": "execute_result",
     "data": {
      "text/plain": [
       "id                                              6xav9a\n",
       "author                                          Gugubo\n",
       "title                                 Gut, angrivarier\n",
       "selftext                                              \n",
       "subreddit_id                                   t5_22i0\n",
       "subreddit                                           de\n",
       "permalink       /r/de/comments/6xav9a/gut_angrivarier/\n",
       "Name: 395, dtype: object"
      ]
     },
     "metadata": {},
     "execution_count": 75
    }
   ],
   "source": [
    "df_sub.loc[395]"
   ]
  },
  {
   "cell_type": "code",
   "execution_count": 1,
   "metadata": {},
   "outputs": [],
   "source": [
    "import zstandard as zstd\n",
    "import json"
   ]
  },
  {
   "cell_type": "code",
   "execution_count": 78,
   "metadata": {},
   "outputs": [
    {
     "output_type": "error",
     "ename": "ZstdError",
     "evalue": "could not determine content size in frame header",
     "traceback": [
      "\u001b[1;31m---------------------------------------------------------------------------\u001b[0m",
      "\u001b[1;31mZstdError\u001b[0m                                 Traceback (most recent call last)",
      "\u001b[1;32m<ipython-input-78-d99b44cb4f63>\u001b[0m in \u001b[0;36m<module>\u001b[1;34m\u001b[0m\n\u001b[0;32m      3\u001b[0m     \u001b[0mdata\u001b[0m \u001b[1;33m=\u001b[0m \u001b[0mf\u001b[0m\u001b[1;33m.\u001b[0m\u001b[0mread\u001b[0m\u001b[1;33m(\u001b[0m\u001b[1;33m)\u001b[0m\u001b[1;33m\u001b[0m\u001b[1;33m\u001b[0m\u001b[0m\n\u001b[0;32m      4\u001b[0m \u001b[0mdctx\u001b[0m \u001b[1;33m=\u001b[0m \u001b[0mzstd\u001b[0m\u001b[1;33m.\u001b[0m\u001b[0mZstdDecompressor\u001b[0m\u001b[1;33m(\u001b[0m\u001b[1;33m)\u001b[0m\u001b[1;33m\u001b[0m\u001b[1;33m\u001b[0m\u001b[0m\n\u001b[1;32m----> 5\u001b[1;33m \u001b[0mdecompressed\u001b[0m \u001b[1;33m=\u001b[0m \u001b[0mdctx\u001b[0m\u001b[1;33m.\u001b[0m\u001b[0mdecompress\u001b[0m\u001b[1;33m(\u001b[0m\u001b[0mdata\u001b[0m\u001b[1;33m)\u001b[0m\u001b[1;33m\u001b[0m\u001b[1;33m\u001b[0m\u001b[0m\n\u001b[0m",
      "\u001b[1;31mZstdError\u001b[0m: could not determine content size in frame header"
     ]
    }
   ],
   "source": [
    "file_name = 'I:\\Downloads\\RS_2019-09.zst'\n",
    "with open(file_name, 'rb') as f:\n",
    "    data = f.read()\n",
    "dctx = zstd.ZstdDecompressor()\n",
    "decompressed = dctx.decompress(data)\n"
   ]
  },
  {
   "cell_type": "code",
   "execution_count": null,
   "metadata": {},
   "outputs": [],
   "source": [
    "df = pd.read_json(io.BytesIO(file_content),lines=True);"
   ]
  },
  {
   "cell_type": "code",
   "execution_count": 56,
   "metadata": {},
   "outputs": [],
   "source": [
    "object = {}\n",
    "\n",
    "columns_init = ['all_awardings', 'allow_live_comments', 'archived', 'author',\n",
    "       'author_flair_background_color', 'author_flair_css_class',\n",
    "       'author_flair_template_id', 'author_flair_text',\n",
    "       'author_flair_text_color', 'awarders', 'can_gild', 'can_mod_post',\n",
    "       'category', 'content_categories', 'contest_mode', 'created_utc',\n",
    "       'crosspost_parent', 'crosspost_parent_list', 'discussion_type',\n",
    "       'distinguished', 'domain', 'edited', 'gilded', 'gildings', 'hidden',\n",
    "       'id', 'is_crosspostable', 'is_meta', 'is_original_content',\n",
    "       'is_reddit_media_domain', 'is_robot_indexable', 'is_self', 'is_video',\n",
    "       'link_flair_background_color', 'link_flair_css_class',\n",
    "       'link_flair_richtext', 'link_flair_template_id', 'link_flair_text',\n",
    "       'link_flair_text_color', 'link_flair_type', 'locked', 'media',\n",
    "       'media_embed', 'media_only', 'no_follow', 'num_comments',\n",
    "       'num_crossposts', 'over_18', 'parent_whitelist_status', 'permalink',\n",
    "       'pinned', 'pwls', 'quarantine', 'removal_reason', 'removed_by',\n",
    "       'removed_by_category', 'retrieved_on', 'score', 'secure_media',\n",
    "       'secure_media_embed', 'selftext', 'send_replies', 'spoiler', 'stickied',\n",
    "       'subreddit', 'subreddit_id', 'subreddit_name_prefixed',\n",
    "       'subreddit_subscribers', 'subreddit_type', 'suggested_sort',\n",
    "       'thumbnail', 'thumbnail_height', 'thumbnail_width', 'title',\n",
    "       'total_awards_received', 'url', 'whitelist_status', 'wls']\n",
    "df = pd.DataFrame(columns=columns_init)"
   ]
  },
  {
   "cell_type": "code",
   "execution_count": 57,
   "metadata": {},
   "outputs": [
    {
     "output_type": "error",
     "ename": "JSONDecodeError",
     "evalue": "Extra data: line 1 column 3 (char 2)",
     "traceback": [
      "\u001b[1;31m---------------------------------------------------------------------------\u001b[0m",
      "\u001b[1;31mJSONDecodeError\u001b[0m                           Traceback (most recent call last)",
      "\u001b[1;32m<ipython-input-57-2685ff7927fe>\u001b[0m in \u001b[0;36m<module>\u001b[1;34m\u001b[0m\n\u001b[0;32m     14\u001b[0m                 \u001b[1;32mif\u001b[0m \u001b[0mi\u001b[0m \u001b[1;33m==\u001b[0m \u001b[1;36m0\u001b[0m\u001b[1;33m:\u001b[0m\u001b[1;33m\u001b[0m\u001b[1;33m\u001b[0m\u001b[0m\n\u001b[0;32m     15\u001b[0m                     \u001b[0mline\u001b[0m \u001b[1;33m=\u001b[0m \u001b[0mprevious_line\u001b[0m \u001b[1;33m+\u001b[0m \u001b[0mline\u001b[0m\u001b[1;33m\u001b[0m\u001b[1;33m\u001b[0m\u001b[0m\n\u001b[1;32m---> 16\u001b[1;33m                 \u001b[0mobject\u001b[0m \u001b[1;33m=\u001b[0m \u001b[0mjson\u001b[0m\u001b[1;33m.\u001b[0m\u001b[0mloads\u001b[0m\u001b[1;33m(\u001b[0m\u001b[0mline\u001b[0m\u001b[1;33m)\u001b[0m\u001b[1;33m\u001b[0m\u001b[1;33m\u001b[0m\u001b[0m\n\u001b[0m\u001b[0;32m     17\u001b[0m                 \u001b[1;31m# do something with the object here\u001b[0m\u001b[1;33m\u001b[0m\u001b[1;33m\u001b[0m\u001b[1;33m\u001b[0m\u001b[0m\n\u001b[0;32m     18\u001b[0m                 \u001b[1;31m###\u001b[0m\u001b[1;33m\u001b[0m\u001b[1;33m\u001b[0m\u001b[1;33m\u001b[0m\u001b[0m\n",
      "\u001b[1;32m~\\AppData\\Local\\Programs\\Python\\Python38\\lib\\json\\__init__.py\u001b[0m in \u001b[0;36mloads\u001b[1;34m(s, cls, object_hook, parse_float, parse_int, parse_constant, object_pairs_hook, **kw)\u001b[0m\n\u001b[0;32m    355\u001b[0m             \u001b[0mparse_int\u001b[0m \u001b[1;32mis\u001b[0m \u001b[1;32mNone\u001b[0m \u001b[1;32mand\u001b[0m \u001b[0mparse_float\u001b[0m \u001b[1;32mis\u001b[0m \u001b[1;32mNone\u001b[0m \u001b[1;32mand\u001b[0m\u001b[1;33m\u001b[0m\u001b[1;33m\u001b[0m\u001b[0m\n\u001b[0;32m    356\u001b[0m             parse_constant is None and object_pairs_hook is None and not kw):\n\u001b[1;32m--> 357\u001b[1;33m         \u001b[1;32mreturn\u001b[0m \u001b[0m_default_decoder\u001b[0m\u001b[1;33m.\u001b[0m\u001b[0mdecode\u001b[0m\u001b[1;33m(\u001b[0m\u001b[0ms\u001b[0m\u001b[1;33m)\u001b[0m\u001b[1;33m\u001b[0m\u001b[1;33m\u001b[0m\u001b[0m\n\u001b[0m\u001b[0;32m    358\u001b[0m     \u001b[1;32mif\u001b[0m \u001b[0mcls\u001b[0m \u001b[1;32mis\u001b[0m \u001b[1;32mNone\u001b[0m\u001b[1;33m:\u001b[0m\u001b[1;33m\u001b[0m\u001b[1;33m\u001b[0m\u001b[0m\n\u001b[0;32m    359\u001b[0m         \u001b[0mcls\u001b[0m \u001b[1;33m=\u001b[0m \u001b[0mJSONDecoder\u001b[0m\u001b[1;33m\u001b[0m\u001b[1;33m\u001b[0m\u001b[0m\n",
      "\u001b[1;32m~\\AppData\\Local\\Programs\\Python\\Python38\\lib\\json\\decoder.py\u001b[0m in \u001b[0;36mdecode\u001b[1;34m(self, s, _w)\u001b[0m\n\u001b[0;32m    338\u001b[0m         \u001b[0mend\u001b[0m \u001b[1;33m=\u001b[0m \u001b[0m_w\u001b[0m\u001b[1;33m(\u001b[0m\u001b[0ms\u001b[0m\u001b[1;33m,\u001b[0m \u001b[0mend\u001b[0m\u001b[1;33m)\u001b[0m\u001b[1;33m.\u001b[0m\u001b[0mend\u001b[0m\u001b[1;33m(\u001b[0m\u001b[1;33m)\u001b[0m\u001b[1;33m\u001b[0m\u001b[1;33m\u001b[0m\u001b[0m\n\u001b[0;32m    339\u001b[0m         \u001b[1;32mif\u001b[0m \u001b[0mend\u001b[0m \u001b[1;33m!=\u001b[0m \u001b[0mlen\u001b[0m\u001b[1;33m(\u001b[0m\u001b[0ms\u001b[0m\u001b[1;33m)\u001b[0m\u001b[1;33m:\u001b[0m\u001b[1;33m\u001b[0m\u001b[1;33m\u001b[0m\u001b[0m\n\u001b[1;32m--> 340\u001b[1;33m             \u001b[1;32mraise\u001b[0m \u001b[0mJSONDecodeError\u001b[0m\u001b[1;33m(\u001b[0m\u001b[1;34m\"Extra data\"\u001b[0m\u001b[1;33m,\u001b[0m \u001b[0ms\u001b[0m\u001b[1;33m,\u001b[0m \u001b[0mend\u001b[0m\u001b[1;33m)\u001b[0m\u001b[1;33m\u001b[0m\u001b[1;33m\u001b[0m\u001b[0m\n\u001b[0m\u001b[0;32m    341\u001b[0m         \u001b[1;32mreturn\u001b[0m \u001b[0mobj\u001b[0m\u001b[1;33m\u001b[0m\u001b[1;33m\u001b[0m\u001b[0m\n\u001b[0;32m    342\u001b[0m \u001b[1;33m\u001b[0m\u001b[0m\n",
      "\u001b[1;31mJSONDecodeError\u001b[0m: Extra data: line 1 column 3 (char 2)"
     ]
    }
   ],
   "source": [
    "file_name = 'I:\\Downloads\\RS_2019-09.zst'\n",
    "with open(file_name, 'rb') as fh:\n",
    "    dctx = zstd.ZstdDecompressor()\n",
    "    with dctx.stream_reader(fh) as reader:\n",
    "        previous_line = \"\"\n",
    "        while True:\n",
    "            chunk = reader.read(24**4)\n",
    "            if not chunk:\n",
    "                break\n",
    "\n",
    "            string_data = chunk.decode('utf-8')\n",
    "            lines = string_data.split(\"\\n\")\n",
    "            for i, line in enumerate(lines[:-1]):\n",
    "                if i == 0:\n",
    "                    line = previous_line + line\n",
    "                object = json.loads(line)\n",
    "                # do something with the object here\n",
    "                ###\n",
    "\n",
    "                #for key, value in object.items():\n",
    "                #    print(key, value)\n",
    "\n",
    "                title = str(object['title'])\n",
    "                text = str(object['selftext'])\n",
    "                string = title + ' ' + text\n",
    "                string = string.replace(\"\\n\", \"\")\n",
    "                if len(string) > 25:\n",
    "                    lang = lang_model.predict(string)\n",
    "                    if lang[0][0] == '__label__de' and lang[1][0] >= 0.5:\n",
    "                        \n",
    "                        df = df.append(object, ignore_index=True) \n",
    "\n",
    "\n",
    "                ###\n",
    "            previous_line = lines[-1]"
   ]
  },
  {
   "cell_type": "code",
   "execution_count": 58,
   "metadata": {},
   "outputs": [
    {
     "output_type": "execute_result",
     "data": {
      "text/plain": [
       "(19450, 117)"
      ]
     },
     "metadata": {},
     "execution_count": 58
    }
   ],
   "source": [
    "df.shape"
   ]
  },
  {
   "cell_type": "code",
   "execution_count": 64,
   "metadata": {},
   "outputs": [
    {
     "output_type": "stream",
     "name": "stdout",
     "text": [
      "all_awardings\nallow_live_comments\narchived\nauthor\nauthor_flair_background_color\nauthor_flair_css_class\nauthor_flair_template_id\nauthor_flair_text\nauthor_flair_text_color\nawarders\ncan_gild\ncan_mod_post\ncategory\ncontent_categories\ncontest_mode\ncreated_utc\ncrosspost_parent\ncrosspost_parent_list\ndiscussion_type\ndistinguished\ndomain\nedited\ngilded\ngildings\nhidden\nid\nis_crosspostable\nis_meta\nis_original_content\nis_reddit_media_domain\nis_robot_indexable\nis_self\nis_video\nlink_flair_background_color\nlink_flair_css_class\nlink_flair_richtext\nlink_flair_template_id\nlink_flair_text\nlink_flair_text_color\nlink_flair_type\nlocked\nmedia\nmedia_embed\nmedia_only\nno_follow\nnum_comments\nnum_crossposts\nover_18\nparent_whitelist_status\npermalink\npinned\npwls\nquarantine\nremoval_reason\nremoved_by\nremoved_by_category\nretrieved_on\nscore\nsecure_media\nsecure_media_embed\nselftext\nsend_replies\nspoiler\nstickied\nsubreddit\nsubreddit_id\nsubreddit_name_prefixed\nsubreddit_subscribers\nsubreddit_type\nsuggested_sort\nthumbnail\nthumbnail_height\nthumbnail_width\ntitle\ntotal_awards_received\nurl\nwhitelist_status\nwls\nauthor_created_utc\nauthor_flair_richtext\nauthor_flair_type\nauthor_fullname\nauthor_patreon_flair\nauthor_premium\npost_hint\npreview\nmedia_metadata\nauthor_cakeday\ntreatment_tags\nupvote_ratio\nadserver_click_url\nadserver_imp_pixel\nauthor_id\ncall_to_action\ndomain_override\nembed_type\nembed_url\nevents\neventsOnRender\nhref_url\nis_blank\nmobile_ad_url\noriginal_link\noutbound_link\npriority_id\npromoted\npromoted_by\npromoted_display_name\npromoted_url\nshow_media\nthird_party_trackers\nthird_party_tracking\nthird_party_tracking_2\nevent_end\nevent_is_live\nevent_start\ncollections\n"
     ]
    }
   ],
   "source": [
    "keys = df.keys()\n",
    "\n",
    "for k in keys:\n",
    "    print(k)"
   ]
  },
  {
   "cell_type": "code",
   "execution_count": 82,
   "metadata": {},
   "outputs": [
    {
     "output_type": "execute_result",
     "data": {
      "text/plain": [
       "6125"
      ]
     },
     "metadata": {},
     "execution_count": 82
    }
   ],
   "source": [
    "all_subreddits = pd.unique(df['author'])\n",
    "len(all_subreddits)"
   ]
  },
  {
   "cell_type": "code",
   "execution_count": 20,
   "metadata": {},
   "outputs": [
    {
     "output_type": "error",
     "ename": "NameError",
     "evalue": "name 'df' is not defined",
     "traceback": [
      "\u001b[1;31m---------------------------------------------------------------------------\u001b[0m",
      "\u001b[1;31mNameError\u001b[0m                                 Traceback (most recent call last)",
      "\u001b[1;32m<ipython-input-20-6ce3047e2c67>\u001b[0m in \u001b[0;36m<module>\u001b[1;34m\u001b[0m\n\u001b[1;32m----> 1\u001b[1;33m \u001b[0mcount_subs\u001b[0m \u001b[1;33m=\u001b[0m \u001b[0mdf\u001b[0m\u001b[1;33m[\u001b[0m\u001b[1;34m'author'\u001b[0m\u001b[1;33m]\u001b[0m\u001b[1;33m.\u001b[0m\u001b[0mvalue_counts\u001b[0m\u001b[1;33m(\u001b[0m\u001b[1;33m)\u001b[0m\u001b[1;33m\u001b[0m\u001b[1;33m\u001b[0m\u001b[0m\n\u001b[0m\u001b[0;32m      2\u001b[0m \u001b[0mcount_subs\u001b[0m\u001b[1;33m[\u001b[0m\u001b[1;33m:\u001b[0m\u001b[1;36m200\u001b[0m\u001b[1;33m]\u001b[0m\u001b[1;33m\u001b[0m\u001b[1;33m\u001b[0m\u001b[0m\n",
      "\u001b[1;31mNameError\u001b[0m: name 'df' is not defined"
     ]
    }
   ],
   "source": [
    "count_subs = df['author'].value_counts()\n",
    "count_subs[:200]"
   ]
  },
  {
   "cell_type": "code",
   "execution_count": 1,
   "metadata": {},
   "outputs": [],
   "source": [
    "import pickle\n",
    "import pandas as pd"
   ]
  },
  {
   "cell_type": "code",
   "execution_count": 91,
   "metadata": {},
   "outputs": [],
   "source": [
    "\n",
    "\n",
    "with open('german_reddit_submissions_20k.pickle', 'wb') as f:\n",
    "    pickle.dump(df, f, protocol=pickle.HIGHEST_PROTOCOL)"
   ]
  },
  {
   "cell_type": "code",
   "execution_count": 2,
   "metadata": {},
   "outputs": [],
   "source": [
    "df_pickle = pd.read_pickle('german_reddit_submissions_20k.pickle')"
   ]
  },
  {
   "cell_type": "code",
   "execution_count": 19,
   "metadata": {},
   "outputs": [
    {
     "output_type": "stream",
     "name": "stdout",
     "text": [
      "<class 'pandas.core.frame.DataFrame'>\nInt64Index: 17474 entries, 0 to 19449\nColumns: 117 entries, all_awardings to collections\ndtypes: float64(10), object(107)\nmemory usage: 15.7+ MB\n"
     ]
    }
   ],
   "source": [
    "df_pickle.info()"
   ]
  },
  {
   "cell_type": "code",
   "execution_count": 16,
   "metadata": {},
   "outputs": [],
   "source": [
    "df_pickle = df_pickle[df_pickle['author'] != '[deleted]']"
   ]
  },
  {
   "cell_type": "code",
   "execution_count": 34,
   "metadata": {},
   "outputs": [
    {
     "output_type": "execute_result",
     "data": {
      "text/plain": [
       "12041"
      ]
     },
     "metadata": {},
     "execution_count": 34
    }
   ],
   "source": [
    "count_subs = df_pickle['author'].value_counts()\n",
    "top_user = list(count_subs.index[:1000])\n",
    "count_top_user = sum(count_subs[:1000])\n",
    "count_top_user"
   ]
  },
  {
   "cell_type": "code",
   "execution_count": 36,
   "metadata": {},
   "outputs": [
    {
     "output_type": "execute_result",
     "data": {
      "text/plain": [
       "(12041, 117)"
      ]
     },
     "metadata": {},
     "execution_count": 36
    }
   ],
   "source": [
    "df = df_pickle[df_pickle['author'].isin(top_user)]\n",
    "df.shape"
   ]
  },
  {
   "cell_type": "code",
   "execution_count": 38,
   "metadata": {},
   "outputs": [
    {
     "output_type": "execute_result",
     "data": {
      "text/plain": [
       "1"
      ]
     },
     "metadata": {},
     "execution_count": 38
    }
   ],
   "source": [
    "top_user.index(top_user[1])"
   ]
  },
  {
   "cell_type": "code",
   "execution_count": 66,
   "metadata": {},
   "outputs": [
    {
     "output_type": "execute_result",
     "data": {
      "text/plain": [
       "15998"
      ]
     },
     "metadata": {},
     "execution_count": 66
    }
   ],
   "source": [
    "count_subred = df_pickle['subreddit'].value_counts()\n",
    "top_subred = list(count_subred.index[:1000])\n",
    "count_top_subred = sum(count_subred[:1000])\n",
    "count_top_subred"
   ]
  },
  {
   "cell_type": "code",
   "execution_count": 69,
   "metadata": {},
   "outputs": [
    {
     "output_type": "execute_result",
     "data": {
      "text/plain": [
       "u_JobfinderDE            46\n",
       "Fahrrad                  45\n",
       "Voluntarismus            44\n",
       "GermanRap                44\n",
       "Volksverpetzer           41\n",
       "OkBrudiMongo             38\n",
       "videos                   38\n",
       "piratenpartei            37\n",
       "de_EDV                   36\n",
       "PewdiepieSubmissions     35\n",
       "MemeSmiet                35\n",
       "germusic                 35\n",
       "pozilei                  34\n",
       "wortwitzkasse            34\n",
       "ich_iel                  33\n",
       "PietSmiet                32\n",
       "berlin                   32\n",
       "rbtv_cj                  31\n",
       "u_tarifrechner           31\n",
       "SteelBook                31\n",
       "DErwachsen               30\n",
       "Debitismus_Forum         30\n",
       "exzj                     30\n",
       "u_Brueckenbauer247       30\n",
       "AFD                      29\n",
       "u_orhankilic             29\n",
       "TheGreenArmy             29\n",
       "AmbientAssistedLiving    29\n",
       "Tiehierfeder             27\n",
       "onlinegambling           26\n",
       "Geschichte               26\n",
       "aeiou                    24\n",
       "CaschysBlog              24\n",
       "MusicOfSoul              24\n",
       "germany                  24\n",
       "de_IAmA                  22\n",
       "DSA_RPG                  22\n",
       "Kopiernudeln             22\n",
       "NichtDieTagespresse      21\n",
       "okbuddyretard            21\n",
       "FreeAdultCamsOnline      20\n",
       "AskReddit                19\n",
       "pokemongotrades          19\n",
       "u_blockchainwelt         19\n",
       "u_GamersCheck            19\n",
       "RB_Leipzig               19\n",
       "PokemonGoFriends         18\n",
       "Brawlstars               18\n",
       "satire_de_en             18\n",
       "600euro                  18\n",
       "Name: subreddit, dtype: int64"
      ]
     },
     "metadata": {},
     "execution_count": 69
    }
   ],
   "source": [
    "count_subred[50:100]"
   ]
  },
  {
   "cell_type": "code",
   "execution_count": 63,
   "metadata": {},
   "outputs": [
    {
     "output_type": "execute_result",
     "data": {
      "text/plain": [
       "                   author_patreon_flair                                     \\\n",
       "                                  count mean  std  min  25%  50%  75%  max   \n",
       "subreddit                                                                    \n",
       "24fun                               5.0  0.0  0.0  0.0  0.0  0.0  0.0  0.0   \n",
       "4x4                                 1.0  0.0  NaN  0.0  0.0  0.0  0.0  0.0   \n",
       "600euro                             8.0  0.0  0.0  0.0  0.0  0.0  0.0  0.0   \n",
       "80scartoons                         1.0  0.0  NaN  0.0  0.0  0.0  0.0  0.0   \n",
       "90scartoons                         3.0  0.0  0.0  0.0  0.0  0.0  0.0  0.0   \n",
       "...                                 ...  ...  ...  ...  ...  ...  ...  ...   \n",
       "xnxxkostenlos                      18.0  0.0  0.0  0.0  0.0  0.0  0.0  0.0   \n",
       "youtube                             6.0  0.0  0.0  0.0  0.0  0.0  0.0  0.0   \n",
       "youtubepromotefree                  7.0  0.0  0.0  0.0  0.0  0.0  0.0  0.0   \n",
       "youtubepromotion                    7.0  0.0  0.0  0.0  0.0  0.0  0.0  0.0   \n",
       "zocken                              3.0  0.0  0.0  0.0  0.0  0.0  0.0  0.0   \n",
       "\n",
       "                   author_premium       ... event_is_live     event_start  \\\n",
       "                            count mean  ...           75% max       count   \n",
       "subreddit                               ...                                 \n",
       "24fun                         5.0  0.0  ...           NaN NaN         0.0   \n",
       "4x4                           1.0  0.0  ...           NaN NaN         0.0   \n",
       "600euro                       8.0  0.0  ...           NaN NaN         0.0   \n",
       "80scartoons                   1.0  0.0  ...           NaN NaN         0.0   \n",
       "90scartoons                   3.0  0.0  ...           NaN NaN         0.0   \n",
       "...                           ...  ...  ...           ...  ..         ...   \n",
       "xnxxkostenlos                18.0  0.0  ...           NaN NaN         0.0   \n",
       "youtube                       6.0  0.0  ...           NaN NaN         0.0   \n",
       "youtubepromotefree            7.0  0.0  ...           NaN NaN         0.0   \n",
       "youtubepromotion              7.0  0.0  ...           NaN NaN         0.0   \n",
       "zocken                        3.0  0.0  ...           NaN NaN         0.0   \n",
       "\n",
       "                                                 \n",
       "                   mean std min 25% 50% 75% max  \n",
       "subreddit                                        \n",
       "24fun               NaN NaN NaN NaN NaN NaN NaN  \n",
       "4x4                 NaN NaN NaN NaN NaN NaN NaN  \n",
       "600euro             NaN NaN NaN NaN NaN NaN NaN  \n",
       "80scartoons         NaN NaN NaN NaN NaN NaN NaN  \n",
       "90scartoons         NaN NaN NaN NaN NaN NaN NaN  \n",
       "...                 ...  ..  ..  ..  ..  ..  ..  \n",
       "xnxxkostenlos       NaN NaN NaN NaN NaN NaN NaN  \n",
       "youtube             NaN NaN NaN NaN NaN NaN NaN  \n",
       "youtubepromotefree  NaN NaN NaN NaN NaN NaN NaN  \n",
       "youtubepromotion    NaN NaN NaN NaN NaN NaN NaN  \n",
       "zocken              NaN NaN NaN NaN NaN NaN NaN  \n",
       "\n",
       "[848 rows x 80 columns]"
      ],
      "text/html": "<div>\n<style scoped>\n    .dataframe tbody tr th:only-of-type {\n        vertical-align: middle;\n    }\n\n    .dataframe tbody tr th {\n        vertical-align: top;\n    }\n\n    .dataframe thead tr th {\n        text-align: left;\n    }\n\n    .dataframe thead tr:last-of-type th {\n        text-align: right;\n    }\n</style>\n<table border=\"1\" class=\"dataframe\">\n  <thead>\n    <tr>\n      <th></th>\n      <th colspan=\"8\" halign=\"left\">author_patreon_flair</th>\n      <th colspan=\"2\" halign=\"left\">author_premium</th>\n      <th>...</th>\n      <th colspan=\"2\" halign=\"left\">event_is_live</th>\n      <th colspan=\"8\" halign=\"left\">event_start</th>\n    </tr>\n    <tr>\n      <th></th>\n      <th>count</th>\n      <th>mean</th>\n      <th>std</th>\n      <th>min</th>\n      <th>25%</th>\n      <th>50%</th>\n      <th>75%</th>\n      <th>max</th>\n      <th>count</th>\n      <th>mean</th>\n      <th>...</th>\n      <th>75%</th>\n      <th>max</th>\n      <th>count</th>\n      <th>mean</th>\n      <th>std</th>\n      <th>min</th>\n      <th>25%</th>\n      <th>50%</th>\n      <th>75%</th>\n      <th>max</th>\n    </tr>\n    <tr>\n      <th>subreddit</th>\n      <th></th>\n      <th></th>\n      <th></th>\n      <th></th>\n      <th></th>\n      <th></th>\n      <th></th>\n      <th></th>\n      <th></th>\n      <th></th>\n      <th></th>\n      <th></th>\n      <th></th>\n      <th></th>\n      <th></th>\n      <th></th>\n      <th></th>\n      <th></th>\n      <th></th>\n      <th></th>\n      <th></th>\n    </tr>\n  </thead>\n  <tbody>\n    <tr>\n      <th>24fun</th>\n      <td>5.0</td>\n      <td>0.0</td>\n      <td>0.0</td>\n      <td>0.0</td>\n      <td>0.0</td>\n      <td>0.0</td>\n      <td>0.0</td>\n      <td>0.0</td>\n      <td>5.0</td>\n      <td>0.0</td>\n      <td>...</td>\n      <td>NaN</td>\n      <td>NaN</td>\n      <td>0.0</td>\n      <td>NaN</td>\n      <td>NaN</td>\n      <td>NaN</td>\n      <td>NaN</td>\n      <td>NaN</td>\n      <td>NaN</td>\n      <td>NaN</td>\n    </tr>\n    <tr>\n      <th>4x4</th>\n      <td>1.0</td>\n      <td>0.0</td>\n      <td>NaN</td>\n      <td>0.0</td>\n      <td>0.0</td>\n      <td>0.0</td>\n      <td>0.0</td>\n      <td>0.0</td>\n      <td>1.0</td>\n      <td>0.0</td>\n      <td>...</td>\n      <td>NaN</td>\n      <td>NaN</td>\n      <td>0.0</td>\n      <td>NaN</td>\n      <td>NaN</td>\n      <td>NaN</td>\n      <td>NaN</td>\n      <td>NaN</td>\n      <td>NaN</td>\n      <td>NaN</td>\n    </tr>\n    <tr>\n      <th>600euro</th>\n      <td>8.0</td>\n      <td>0.0</td>\n      <td>0.0</td>\n      <td>0.0</td>\n      <td>0.0</td>\n      <td>0.0</td>\n      <td>0.0</td>\n      <td>0.0</td>\n      <td>8.0</td>\n      <td>0.0</td>\n      <td>...</td>\n      <td>NaN</td>\n      <td>NaN</td>\n      <td>0.0</td>\n      <td>NaN</td>\n      <td>NaN</td>\n      <td>NaN</td>\n      <td>NaN</td>\n      <td>NaN</td>\n      <td>NaN</td>\n      <td>NaN</td>\n    </tr>\n    <tr>\n      <th>80scartoons</th>\n      <td>1.0</td>\n      <td>0.0</td>\n      <td>NaN</td>\n      <td>0.0</td>\n      <td>0.0</td>\n      <td>0.0</td>\n      <td>0.0</td>\n      <td>0.0</td>\n      <td>1.0</td>\n      <td>0.0</td>\n      <td>...</td>\n      <td>NaN</td>\n      <td>NaN</td>\n      <td>0.0</td>\n      <td>NaN</td>\n      <td>NaN</td>\n      <td>NaN</td>\n      <td>NaN</td>\n      <td>NaN</td>\n      <td>NaN</td>\n      <td>NaN</td>\n    </tr>\n    <tr>\n      <th>90scartoons</th>\n      <td>3.0</td>\n      <td>0.0</td>\n      <td>0.0</td>\n      <td>0.0</td>\n      <td>0.0</td>\n      <td>0.0</td>\n      <td>0.0</td>\n      <td>0.0</td>\n      <td>3.0</td>\n      <td>0.0</td>\n      <td>...</td>\n      <td>NaN</td>\n      <td>NaN</td>\n      <td>0.0</td>\n      <td>NaN</td>\n      <td>NaN</td>\n      <td>NaN</td>\n      <td>NaN</td>\n      <td>NaN</td>\n      <td>NaN</td>\n      <td>NaN</td>\n    </tr>\n    <tr>\n      <th>...</th>\n      <td>...</td>\n      <td>...</td>\n      <td>...</td>\n      <td>...</td>\n      <td>...</td>\n      <td>...</td>\n      <td>...</td>\n      <td>...</td>\n      <td>...</td>\n      <td>...</td>\n      <td>...</td>\n      <td>...</td>\n      <td>...</td>\n      <td>...</td>\n      <td>...</td>\n      <td>...</td>\n      <td>...</td>\n      <td>...</td>\n      <td>...</td>\n      <td>...</td>\n      <td>...</td>\n    </tr>\n    <tr>\n      <th>xnxxkostenlos</th>\n      <td>18.0</td>\n      <td>0.0</td>\n      <td>0.0</td>\n      <td>0.0</td>\n      <td>0.0</td>\n      <td>0.0</td>\n      <td>0.0</td>\n      <td>0.0</td>\n      <td>18.0</td>\n      <td>0.0</td>\n      <td>...</td>\n      <td>NaN</td>\n      <td>NaN</td>\n      <td>0.0</td>\n      <td>NaN</td>\n      <td>NaN</td>\n      <td>NaN</td>\n      <td>NaN</td>\n      <td>NaN</td>\n      <td>NaN</td>\n      <td>NaN</td>\n    </tr>\n    <tr>\n      <th>youtube</th>\n      <td>6.0</td>\n      <td>0.0</td>\n      <td>0.0</td>\n      <td>0.0</td>\n      <td>0.0</td>\n      <td>0.0</td>\n      <td>0.0</td>\n      <td>0.0</td>\n      <td>6.0</td>\n      <td>0.0</td>\n      <td>...</td>\n      <td>NaN</td>\n      <td>NaN</td>\n      <td>0.0</td>\n      <td>NaN</td>\n      <td>NaN</td>\n      <td>NaN</td>\n      <td>NaN</td>\n      <td>NaN</td>\n      <td>NaN</td>\n      <td>NaN</td>\n    </tr>\n    <tr>\n      <th>youtubepromotefree</th>\n      <td>7.0</td>\n      <td>0.0</td>\n      <td>0.0</td>\n      <td>0.0</td>\n      <td>0.0</td>\n      <td>0.0</td>\n      <td>0.0</td>\n      <td>0.0</td>\n      <td>7.0</td>\n      <td>0.0</td>\n      <td>...</td>\n      <td>NaN</td>\n      <td>NaN</td>\n      <td>0.0</td>\n      <td>NaN</td>\n      <td>NaN</td>\n      <td>NaN</td>\n      <td>NaN</td>\n      <td>NaN</td>\n      <td>NaN</td>\n      <td>NaN</td>\n    </tr>\n    <tr>\n      <th>youtubepromotion</th>\n      <td>7.0</td>\n      <td>0.0</td>\n      <td>0.0</td>\n      <td>0.0</td>\n      <td>0.0</td>\n      <td>0.0</td>\n      <td>0.0</td>\n      <td>0.0</td>\n      <td>7.0</td>\n      <td>0.0</td>\n      <td>...</td>\n      <td>NaN</td>\n      <td>NaN</td>\n      <td>0.0</td>\n      <td>NaN</td>\n      <td>NaN</td>\n      <td>NaN</td>\n      <td>NaN</td>\n      <td>NaN</td>\n      <td>NaN</td>\n      <td>NaN</td>\n    </tr>\n    <tr>\n      <th>zocken</th>\n      <td>3.0</td>\n      <td>0.0</td>\n      <td>0.0</td>\n      <td>0.0</td>\n      <td>0.0</td>\n      <td>0.0</td>\n      <td>0.0</td>\n      <td>0.0</td>\n      <td>3.0</td>\n      <td>0.0</td>\n      <td>...</td>\n      <td>NaN</td>\n      <td>NaN</td>\n      <td>0.0</td>\n      <td>NaN</td>\n      <td>NaN</td>\n      <td>NaN</td>\n      <td>NaN</td>\n      <td>NaN</td>\n      <td>NaN</td>\n      <td>NaN</td>\n    </tr>\n  </tbody>\n</table>\n<p>848 rows × 80 columns</p>\n</div>"
     },
     "metadata": {},
     "execution_count": 63
    }
   ],
   "source": [
    "df.groupby('subreddit').describe()"
   ]
  },
  {
   "cell_type": "code",
   "execution_count": 62,
   "metadata": {},
   "outputs": [
    {
     "output_type": "execute_result",
     "data": {
      "text/plain": [
       "              author_patreon_flair                                     \\\n",
       "                             count mean  std  min  25%  50%  75%  max   \n",
       "subreddit                                                               \n",
       "alle15minuten               1632.0  0.0  0.0  0.0  0.0  0.0  0.0  0.0   \n",
       "\n",
       "              author_premium       ... event_is_live     event_start           \\\n",
       "                       count mean  ...           75% max       count mean std   \n",
       "subreddit                          ...                                          \n",
       "alle15minuten         1632.0  0.0  ...           NaN NaN         0.0  NaN NaN   \n",
       "\n",
       "                                   \n",
       "              min 25% 50% 75% max  \n",
       "subreddit                          \n",
       "alle15minuten NaN NaN NaN NaN NaN  \n",
       "\n",
       "[1 rows x 80 columns]"
      ],
      "text/html": "<div>\n<style scoped>\n    .dataframe tbody tr th:only-of-type {\n        vertical-align: middle;\n    }\n\n    .dataframe tbody tr th {\n        vertical-align: top;\n    }\n\n    .dataframe thead tr th {\n        text-align: left;\n    }\n\n    .dataframe thead tr:last-of-type th {\n        text-align: right;\n    }\n</style>\n<table border=\"1\" class=\"dataframe\">\n  <thead>\n    <tr>\n      <th></th>\n      <th colspan=\"8\" halign=\"left\">author_patreon_flair</th>\n      <th colspan=\"2\" halign=\"left\">author_premium</th>\n      <th>...</th>\n      <th colspan=\"2\" halign=\"left\">event_is_live</th>\n      <th colspan=\"8\" halign=\"left\">event_start</th>\n    </tr>\n    <tr>\n      <th></th>\n      <th>count</th>\n      <th>mean</th>\n      <th>std</th>\n      <th>min</th>\n      <th>25%</th>\n      <th>50%</th>\n      <th>75%</th>\n      <th>max</th>\n      <th>count</th>\n      <th>mean</th>\n      <th>...</th>\n      <th>75%</th>\n      <th>max</th>\n      <th>count</th>\n      <th>mean</th>\n      <th>std</th>\n      <th>min</th>\n      <th>25%</th>\n      <th>50%</th>\n      <th>75%</th>\n      <th>max</th>\n    </tr>\n    <tr>\n      <th>subreddit</th>\n      <th></th>\n      <th></th>\n      <th></th>\n      <th></th>\n      <th></th>\n      <th></th>\n      <th></th>\n      <th></th>\n      <th></th>\n      <th></th>\n      <th></th>\n      <th></th>\n      <th></th>\n      <th></th>\n      <th></th>\n      <th></th>\n      <th></th>\n      <th></th>\n      <th></th>\n      <th></th>\n      <th></th>\n    </tr>\n  </thead>\n  <tbody>\n    <tr>\n      <th>alle15minuten</th>\n      <td>1632.0</td>\n      <td>0.0</td>\n      <td>0.0</td>\n      <td>0.0</td>\n      <td>0.0</td>\n      <td>0.0</td>\n      <td>0.0</td>\n      <td>0.0</td>\n      <td>1632.0</td>\n      <td>0.0</td>\n      <td>...</td>\n      <td>NaN</td>\n      <td>NaN</td>\n      <td>0.0</td>\n      <td>NaN</td>\n      <td>NaN</td>\n      <td>NaN</td>\n      <td>NaN</td>\n      <td>NaN</td>\n      <td>NaN</td>\n      <td>NaN</td>\n    </tr>\n  </tbody>\n</table>\n<p>1 rows × 80 columns</p>\n</div>"
     },
     "metadata": {},
     "execution_count": 62
    }
   ],
   "source": [
    "user = df[df['author'] == top_user[0]].groupby(['subreddit'])\n",
    "user.describe()\n"
   ]
  },
  {
   "cell_type": "code",
   "execution_count": 18,
   "metadata": {},
   "outputs": [
    {
     "output_type": "execute_result",
     "data": {
      "text/plain": [
       "6124"
      ]
     },
     "metadata": {},
     "execution_count": 18
    }
   ],
   "source": [
    "len(user)"
   ]
  },
  {
   "cell_type": "code",
   "execution_count": null,
   "metadata": {},
   "outputs": [],
   "source": []
  }
 ]
}